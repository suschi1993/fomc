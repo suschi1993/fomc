{
 "cells": [
  {
   "cell_type": "code",
   "execution_count": null,
   "id": "890e3261",
   "metadata": {},
   "outputs": [],
   "source": [
    "# Install the Transformers, Datasets, and Evaluate libraries to run this notebook.\n",
    "\n",
    "# !pip install datasets evaluate transformers[sentencepiece]\n",
    "# !apt install git-lfs"
   ]
  },
  {
   "cell_type": "code",
   "execution_count": null,
   "id": "f2f58054",
   "metadata": {},
   "outputs": [],
   "source": [
    "# adapt your email and name in the following cell.\n",
    "\n",
    "# !git config --global user.email \"schmid.sascha@gmx.ch\"\n",
    "# !git config --global user.name \"suschi1993\""
   ]
  },
  {
   "cell_type": "code",
   "execution_count": null,
   "id": "cfb43692",
   "metadata": {},
   "outputs": [],
   "source": [
    "# Execute the following and enter your huggingface credentials.\n",
    "\n",
    "# from huggingface_hub import notebook_login\n",
    "\n",
    "# notebook_login()"
   ]
  },
  {
   "cell_type": "code",
   "execution_count": null,
   "id": "4fd57d1e",
   "metadata": {},
   "outputs": [],
   "source": [
    "# Install libraries\n",
    "\n",
    "!pip install pathlib\n",
    "\n",
    "import pandas as pd\n",
    "import datetime\n",
    "import pathlib\n",
    "from pathlib import Path\n",
    "import config\n",
    "\n",
    "# import CSV file. Replace folder path with respective path\n",
    "# set the path of the csv file - you should define the path later in the .gitignore file!\n",
    "\n",
    "# csv_file_path = Path('/Users/sascha.schmid/Documents/University/Master/04 NLP/Project/FOMC Dataset for Huggingface (v0.0) - Data & Labels.csv')\n",
    "\n",
    "# read the csv file into a pandas dataframe\n",
    "\n",
    "df = pd.read_csv(config.PATH_TO_FOMC_CSV_INPUT)\n",
    "\n",
    "# display the first 5 rows of the dataframe\n",
    "\n",
    "print(df.head())"
   ]
  },
  {
   "cell_type": "code",
   "execution_count": null,
   "id": "7208b7e1",
   "metadata": {},
   "outputs": [],
   "source": [
    "# replace wrong column title\n",
    "\n",
    "df = df.rename(columns = {'employment_sentimen_1' :'employment_sentiment_1'}, inplace = False)\n",
    "df.head()"
   ]
  },
  {
   "cell_type": "code",
   "execution_count": null,
   "id": "9f7df7d9",
   "metadata": {},
   "outputs": [],
   "source": [
    "# using the replace() method\n",
    "\n",
    "df['growth_sentiment_1'].replace(to_replace=\"negative\", \n",
    "                 value=0, \n",
    "                  inplace=True)\n",
    "df['growth_sentiment_1'].replace(to_replace=\"neutral\", \n",
    "                 value=1, \n",
    "                  inplace=True)\n",
    "df['growth_sentiment_1'].replace(to_replace=\"positive\", \n",
    "                 value=2, \n",
    "                  inplace=True)\n",
    "\n",
    "df['employment_sentiment_1'].replace(to_replace=\"negative\", \n",
    "                 value=0, \n",
    "                  inplace=True)\n",
    "df['employment_sentiment_1'].replace(to_replace=\"neutral\", \n",
    "                 value=1, \n",
    "                  inplace=True)\n",
    "df['employment_sentiment_1'].replace(to_replace=\"positive\", \n",
    "                 value=2, \n",
    "                  inplace=True)\n",
    "\n",
    "df['inflation_sentiment_1'].replace(to_replace=\"negative\", \n",
    "                 value=0, \n",
    "                  inplace=True)\n",
    "df['inflation_sentiment_1'].replace(to_replace=\"neutral\", \n",
    "                 value=1, \n",
    "                  inplace=True)\n",
    "df['inflation_sentiment_1'].replace(to_replace=\"positive\", \n",
    "                 value=2, \n",
    "                  inplace=True)"
   ]
  },
  {
   "cell_type": "code",
   "execution_count": null,
   "id": "6d3316c4",
   "metadata": {},
   "outputs": [],
   "source": [
    "# delete id and date column\n",
    "\n",
    "df.drop(columns=['id', 'date'], inplace=True)"
   ]
  },
  {
   "cell_type": "code",
   "execution_count": null,
   "id": "6a57de4f",
   "metadata": {},
   "outputs": [],
   "source": [
    "# writing  the dataframe to another csv file\n",
    "\n",
    "df.to_csv(config.PATH_TO_FOMC_CSV_OUTPUT_FOR_HUGGINGFACE)\n",
    "\n",
    "# df.to_csv('/Users/sascha.schmid/Documents/University/Master/04 NLP/Jupyter Notebooks/Output/train.csv', \n",
    "                 # index=False)"
   ]
  },
  {
   "cell_type": "code",
   "execution_count": null,
   "id": "66259d45",
   "metadata": {},
   "outputs": [],
   "source": []
  }
 ],
 "metadata": {
  "kernelspec": {
   "display_name": "Python 3 (ipykernel)",
   "language": "python",
   "name": "python3"
  },
  "language_info": {
   "codemirror_mode": {
    "name": "ipython",
    "version": 3
   },
   "file_extension": ".py",
   "mimetype": "text/x-python",
   "name": "python",
   "nbconvert_exporter": "python",
   "pygments_lexer": "ipython3",
   "version": "3.10.9"
  }
 },
 "nbformat": 4,
 "nbformat_minor": 5
}
